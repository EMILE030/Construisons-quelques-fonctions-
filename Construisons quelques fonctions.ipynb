{
 "cells": [
  {
   "cell_type": "code",
   "execution_count": 1,
   "id": "0c1e9afe",
   "metadata": {},
   "outputs": [
    {
     "name": "stdout",
     "output_type": "stream",
     "text": [
      "35\n"
     ]
    }
   ],
   "source": [
    "# question 1\n",
    "def mylist(maxi=(20,35,19)):\n",
    "    x = max(maxi)\n",
    "    print(x)\n",
    "\n",
    "mylist()"
   ]
  },
  {
   "cell_type": "code",
   "execution_count": null,
   "id": "cf628290",
   "metadata": {},
   "outputs": [],
   "source": [
    "# question 2\n",
    "def calcul():\n",
    "    valeur_1=int(input(\"saisir la 1ere valeur \"))\n",
    "    valeur_2=int(input(\"saisir la 2eme valeur \"))\n",
    "    adition=valeur_1+valeur_2\n",
    "    soustraction=valeur_1-valeur_2\n",
    "    return (adition,soustraction)\n",
    "calcul()\n"
   ]
  },
  {
   "cell_type": "code",
   "execution_count": null,
   "id": "8593ea63",
   "metadata": {},
   "outputs": [],
   "source": [
    "# question 3\n",
    "def addition(list_2):\n",
    "    nombre_1=0\n",
    "    for b in range(list_2):\n",
    "        nombre_1+=b\n",
    "    return(nombre_1)\n",
    "    print(nombre_1)\n",
    "def multiplication(list_3):\n",
    "     nombre_2=1\n",
    "    for x in range(list_3):\n",
    "        nombre_2*=x\n",
    "    return(nombre_2)\n",
    "    print(nombre_2)\n",
    "list_1=[58,85,97,45,68,74,7]   \n",
    "list_2=[]\n",
    "list_3=[]\n",
    "for a in range (list_1):\n",
    "    if a%2=0:\n",
    "        list_2.append(a)\n",
    "    else:\n",
    "        list_3.append(a)\n",
    "addition()\n",
    "multiplication()"
   ]
  },
  {
   "cell_type": "code",
   "execution_count": null,
   "id": "c7f2b513",
   "metadata": {},
   "outputs": [],
   "source": [
    "# question 4\n",
    "secence=input(\"saisir une secense de mot\")\n",
    "new_secence=secence.split(\"-\")\n",
    "print(sorted(new_secence))\n"
   ]
  },
  {
   "cell_type": "code",
   "execution_count": null,
   "id": "2dc4cb14",
   "metadata": {},
   "outputs": [],
   "source": [
    "# question 5\n",
    "a=input(\"saisir une valeur \")\n",
    "a=a.split(\",\")\n",
    "C=50\n",
    "H=30\n",
    "my_list=[]\n",
    "import math\n",
    "for D in range(len(a)):\n",
    "    D=int(a[D])\n",
    "    Q= ((2*C*D)/H)**(0.5)\n",
    "    Q=int(Q)\n",
    "    my_list.append(Q)\n",
    "print(my_list)   "
   ]
  },
  {
   "cell_type": "code",
   "execution_count": null,
   "id": "8e0a7c26",
   "metadata": {},
   "outputs": [],
   "source": []
  }
 ],
 "metadata": {
  "kernelspec": {
   "display_name": "Python 3 (ipykernel)",
   "language": "python",
   "name": "python3"
  },
  "language_info": {
   "codemirror_mode": {
    "name": "ipython",
    "version": 3
   },
   "file_extension": ".py",
   "mimetype": "text/x-python",
   "name": "python",
   "nbconvert_exporter": "python",
   "pygments_lexer": "ipython3",
   "version": "3.9.7"
  }
 },
 "nbformat": 4,
 "nbformat_minor": 5
}
